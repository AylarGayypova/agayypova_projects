This Folder includes the sidereal maps made
